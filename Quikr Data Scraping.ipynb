{
 "cells": [
  {
   "cell_type": "code",
   "execution_count": 3,
   "metadata": {},
   "outputs": [],
   "source": [
    "import bs4\n",
    "import requests\n",
    "from fake_useragent import UserAgent\n",
    "import csv"
   ]
  },
  {
   "cell_type": "code",
   "execution_count": 5,
   "metadata": {},
   "outputs": [
    {
     "name": "stdout",
     "output_type": "stream",
     "text": [
      "Hiring For DRC ENGINEER ,Experienced Candidate with Sal upto 20k \n",
      "quality engineers immediate hiring \n",
      "ENGINEERING JOBS, FRESHERS JOBS,BE BTECH JOBS, TECHNICAL JOBS \n",
      "Urgent requirements for B.Tech, Diploma, B.E freshers & experience in MNC Organization \n",
      "Data Engineer - Machine Learning  | Node Tech |  1-3 years \n",
      "Security Engineering Lead | Fortune 500 Airlines | 7-11 years \n",
      "Senior Backend Engineer - Node.JS  | Wild Irish Flowers |  4-6 years \n",
      "Staff Android Engineer  | Ethnic Shop |  9-15 years \n",
      "Eximius Design - Test Development Engineer - Embedded System Architecture - White Box Testing (3-5 yrs) Bangalore (Semiconductor/VLSI/EDA) \n",
      "Urgent Hiring For Engineers In Bangalore City  Salary 25K- 50k \n",
      "URGENT HIRING FOR ENGINEER IN GMR SOLAR ON ONROLL \n",
      "Recruitment for fresher Maintenance, Production,   engineer in automobile company at Anantapur. \n",
      "Urgent requirement of Engineers in Bangalore Salary 18k to 63k. \n",
      "REQUIRED FOR, CANDIDATE, B.TECH, BE , DIPLOMA ITI, MECHANICAL ENGINEER IN BANGALORE \n",
      "ENGINEER FOR SINGAPORE WITH FREE VISA \n"
     ]
    },
    {
     "data": {
      "text/plain": [
       "40"
      ]
     },
     "execution_count": 5,
     "metadata": {},
     "output_type": "execute_result"
    }
   ],
   "source": [
    "user_agent = UserAgent()\n",
    "f = open('Quikr.csv','a',newline='')\n",
    "csvwriter = csv.writer(f)\n",
    "csvwriter.writerow(['Name of Jobs'])\n",
    "\n",
    "url = \"https://www.quikr.com/jobs/engineer+Bangalore+zwqxj284607247?utm_source=babajob\"\n",
    "page = requests.get(url, headers={\"user-agent\": user_agent.chrome})\n",
    "html = page.content\n",
    "soup = bs4.BeautifulSoup(html, \"html.parser\")\n",
    "div_tags = soup.find_all(\"h2\",{'class':'m0'})\n",
    "for n in div_tags:\n",
    "    for tag in n.find_all('a',{'class':'job-title'}):\n",
    "        for link in tag:\n",
    "            print(link)\n",
    "csvwriter.writerow([link])"
   ]
  },
  {
   "cell_type": "code",
   "execution_count": null,
   "metadata": {},
   "outputs": [],
   "source": []
  }
 ],
 "metadata": {
  "kernelspec": {
   "display_name": "Python 3",
   "language": "python",
   "name": "python3"
  },
  "language_info": {
   "codemirror_mode": {
    "name": "ipython",
    "version": 3
   },
   "file_extension": ".py",
   "mimetype": "text/x-python",
   "name": "python",
   "nbconvert_exporter": "python",
   "pygments_lexer": "ipython3",
   "version": "3.8.3"
  }
 },
 "nbformat": 4,
 "nbformat_minor": 4
}
